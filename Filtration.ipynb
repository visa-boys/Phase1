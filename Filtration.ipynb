{
 "cells": [
  {
   "cell_type": "markdown",
   "metadata": {},
   "source": [
    "Importing necessary packages"
   ]
  },
  {
   "cell_type": "code",
   "execution_count": 1,
   "metadata": {},
   "outputs": [],
   "source": [
    "import pandas as pd\n",
    "import numpy as np\n"
   ]
  },
  {
   "cell_type": "code",
   "execution_count": 11,
   "metadata": {},
   "outputs": [],
   "source": [
    "df1=pd.read_csv('filtered1new.csv')\n",
    "df2=pd.read_csv('filtered2new.csv')"
   ]
  },
  {
   "cell_type": "code",
   "execution_count": 12,
   "metadata": {},
   "outputs": [
    {
     "data": {
      "text/plain": [
       "Index(['Unnamed: 0', 'Image ID', 'Room 0 Area (sq. meters)',\n",
       "       'Room 1 Area (sq. meters)', 'Room 2 Area (sq. meters)',\n",
       "       'Room 3 Area (sq. meters)', 'Room 4 Area (sq. meters)',\n",
       "       'Room 5 Area (sq. meters)', 'Room 6 Area (sq. meters)',\n",
       "       'Room 7 Area (sq. meters)', 'Room 8 Area (sq. meters)',\n",
       "       'Room 9 Area (sq. meters)', 'Total Area', 'room0_valid', 'room1_valid',\n",
       "       'room2_valid', 'room3_valid', 'room4_valid', 'room5_valid',\n",
       "       'room6_valid', 'room7_valid', 'room8_valid', 'room9_valid',\n",
       "       'area_valid'],\n",
       "      dtype='object')"
      ]
     },
     "execution_count": 12,
     "metadata": {},
     "output_type": "execute_result"
    }
   ],
   "source": [
    "df1.columns"
   ]
  },
  {
   "cell_type": "code",
   "execution_count": 13,
   "metadata": {},
   "outputs": [
    {
     "data": {
      "text/plain": [
       "(80788, 24)"
      ]
     },
     "execution_count": 13,
     "metadata": {},
     "output_type": "execute_result"
    }
   ],
   "source": [
    "df1.shape"
   ]
  },
  {
   "cell_type": "code",
   "execution_count": 14,
   "metadata": {},
   "outputs": [
    {
     "data": {
      "text/plain": [
       "(80788, 23)"
      ]
     },
     "execution_count": 14,
     "metadata": {},
     "output_type": "execute_result"
    }
   ],
   "source": [
    "df2.shape"
   ]
  },
  {
   "cell_type": "code",
   "execution_count": 15,
   "metadata": {},
   "outputs": [],
   "source": [
    "df = pd.merge(df1, df2, left_on='Image ID',right_on='Image ID', how='inner')\n"
   ]
  },
  {
   "cell_type": "code",
   "execution_count": 16,
   "metadata": {},
   "outputs": [
    {
     "data": {
      "text/plain": [
       "(80788, 46)"
      ]
     },
     "execution_count": 16,
     "metadata": {},
     "output_type": "execute_result"
    }
   ],
   "source": [
    "df.shape"
   ]
  },
  {
   "cell_type": "code",
   "execution_count": 17,
   "metadata": {},
   "outputs": [
    {
     "data": {
      "text/plain": [
       "Index(['Unnamed: 0_x', 'Image ID', 'Room 0 Area (sq. meters)',\n",
       "       'Room 1 Area (sq. meters)', 'Room 2 Area (sq. meters)',\n",
       "       'Room 3 Area (sq. meters)', 'Room 4 Area (sq. meters)',\n",
       "       'Room 5 Area (sq. meters)', 'Room 6 Area (sq. meters)',\n",
       "       'Room 7 Area (sq. meters)', 'Room 8 Area (sq. meters)',\n",
       "       'Room 9 Area (sq. meters)', 'Total Area', 'room0_valid_x',\n",
       "       'room1_valid_x', 'room2_valid_x', 'room3_valid_x', 'room4_valid_x',\n",
       "       'room5_valid_x', 'room6_valid_x', 'room7_valid_x', 'room8_valid_x',\n",
       "       'room9_valid_x', 'area_valid', 'Unnamed: 0_y', 'Room 0 minW (meters)',\n",
       "       'Room 1 minW (meters)', 'Room 2 minW (meters)', 'Room 3 minW (meters)',\n",
       "       'Room 4 minW (meters)', 'Room 5 minW (meters)', 'Room 6 minW (meters)',\n",
       "       'Room 7 minW (meters)', 'Room 8 minW (meters)', 'Room 9 minW (meters)',\n",
       "       'room0_valid_y', 'room1_valid_y', 'room2_valid_y', 'room3_valid_y',\n",
       "       'room4_valid_y', 'room5_valid_y', 'room6_valid_y', 'room7_valid_y',\n",
       "       'room8_valid_y', 'room9_valid_y', 'width_valid'],\n",
       "      dtype='object')"
      ]
     },
     "execution_count": 17,
     "metadata": {},
     "output_type": "execute_result"
    }
   ],
   "source": [
    "df.columns"
   ]
  },
  {
   "cell_type": "code",
   "execution_count": 18,
   "metadata": {},
   "outputs": [
    {
     "data": {
      "text/html": [
       "<div>\n",
       "<style scoped>\n",
       "    .dataframe tbody tr th:only-of-type {\n",
       "        vertical-align: middle;\n",
       "    }\n",
       "\n",
       "    .dataframe tbody tr th {\n",
       "        vertical-align: top;\n",
       "    }\n",
       "\n",
       "    .dataframe thead th {\n",
       "        text-align: right;\n",
       "    }\n",
       "</style>\n",
       "<table border=\"1\" class=\"dataframe\">\n",
       "  <thead>\n",
       "    <tr style=\"text-align: right;\">\n",
       "      <th></th>\n",
       "      <th>Unnamed: 0_x</th>\n",
       "      <th>Image ID</th>\n",
       "      <th>Room 0 Area (sq. meters)</th>\n",
       "      <th>Room 1 Area (sq. meters)</th>\n",
       "      <th>Room 2 Area (sq. meters)</th>\n",
       "      <th>Room 3 Area (sq. meters)</th>\n",
       "      <th>Room 4 Area (sq. meters)</th>\n",
       "      <th>Room 5 Area (sq. meters)</th>\n",
       "      <th>Room 6 Area (sq. meters)</th>\n",
       "      <th>Room 7 Area (sq. meters)</th>\n",
       "      <th>...</th>\n",
       "      <th>room1_valid_y</th>\n",
       "      <th>room2_valid_y</th>\n",
       "      <th>room3_valid_y</th>\n",
       "      <th>room4_valid_y</th>\n",
       "      <th>room5_valid_y</th>\n",
       "      <th>room6_valid_y</th>\n",
       "      <th>room7_valid_y</th>\n",
       "      <th>room8_valid_y</th>\n",
       "      <th>room9_valid_y</th>\n",
       "      <th>width_valid</th>\n",
       "    </tr>\n",
       "  </thead>\n",
       "  <tbody>\n",
       "    <tr>\n",
       "      <th>2</th>\n",
       "      <td>2</td>\n",
       "      <td>2</td>\n",
       "      <td>38.448303</td>\n",
       "      <td>14.871094</td>\n",
       "      <td>8.429260</td>\n",
       "      <td>5.072388</td>\n",
       "      <td>0.0</td>\n",
       "      <td>0.0</td>\n",
       "      <td>0.0</td>\n",
       "      <td>12.280518</td>\n",
       "      <td>...</td>\n",
       "      <td>True</td>\n",
       "      <td>True</td>\n",
       "      <td>True</td>\n",
       "      <td>True</td>\n",
       "      <td>True</td>\n",
       "      <td>True</td>\n",
       "      <td>True</td>\n",
       "      <td>True</td>\n",
       "      <td>True</td>\n",
       "      <td>True</td>\n",
       "    </tr>\n",
       "    <tr>\n",
       "      <th>4</th>\n",
       "      <td>4</td>\n",
       "      <td>4</td>\n",
       "      <td>32.382202</td>\n",
       "      <td>12.814453</td>\n",
       "      <td>5.472839</td>\n",
       "      <td>3.737549</td>\n",
       "      <td>0.0</td>\n",
       "      <td>0.0</td>\n",
       "      <td>0.0</td>\n",
       "      <td>13.081421</td>\n",
       "      <td>...</td>\n",
       "      <td>True</td>\n",
       "      <td>True</td>\n",
       "      <td>True</td>\n",
       "      <td>True</td>\n",
       "      <td>True</td>\n",
       "      <td>True</td>\n",
       "      <td>True</td>\n",
       "      <td>True</td>\n",
       "      <td>True</td>\n",
       "      <td>True</td>\n",
       "    </tr>\n",
       "    <tr>\n",
       "      <th>9</th>\n",
       "      <td>9</td>\n",
       "      <td>9</td>\n",
       "      <td>34.621765</td>\n",
       "      <td>15.123230</td>\n",
       "      <td>7.203186</td>\n",
       "      <td>3.342041</td>\n",
       "      <td>0.0</td>\n",
       "      <td>0.0</td>\n",
       "      <td>0.0</td>\n",
       "      <td>12.280518</td>\n",
       "      <td>...</td>\n",
       "      <td>True</td>\n",
       "      <td>True</td>\n",
       "      <td>True</td>\n",
       "      <td>True</td>\n",
       "      <td>True</td>\n",
       "      <td>True</td>\n",
       "      <td>True</td>\n",
       "      <td>True</td>\n",
       "      <td>True</td>\n",
       "      <td>True</td>\n",
       "    </tr>\n",
       "    <tr>\n",
       "      <th>16</th>\n",
       "      <td>16</td>\n",
       "      <td>16</td>\n",
       "      <td>27.280151</td>\n",
       "      <td>17.575378</td>\n",
       "      <td>6.451721</td>\n",
       "      <td>5.210815</td>\n",
       "      <td>0.0</td>\n",
       "      <td>0.0</td>\n",
       "      <td>0.0</td>\n",
       "      <td>16.334473</td>\n",
       "      <td>...</td>\n",
       "      <td>True</td>\n",
       "      <td>True</td>\n",
       "      <td>True</td>\n",
       "      <td>True</td>\n",
       "      <td>True</td>\n",
       "      <td>True</td>\n",
       "      <td>True</td>\n",
       "      <td>True</td>\n",
       "      <td>True</td>\n",
       "      <td>True</td>\n",
       "    </tr>\n",
       "    <tr>\n",
       "      <th>22</th>\n",
       "      <td>22</td>\n",
       "      <td>22</td>\n",
       "      <td>33.810974</td>\n",
       "      <td>13.417603</td>\n",
       "      <td>9.769043</td>\n",
       "      <td>6.011719</td>\n",
       "      <td>0.0</td>\n",
       "      <td>0.0</td>\n",
       "      <td>0.0</td>\n",
       "      <td>11.311523</td>\n",
       "      <td>...</td>\n",
       "      <td>True</td>\n",
       "      <td>True</td>\n",
       "      <td>True</td>\n",
       "      <td>True</td>\n",
       "      <td>True</td>\n",
       "      <td>True</td>\n",
       "      <td>True</td>\n",
       "      <td>True</td>\n",
       "      <td>True</td>\n",
       "      <td>True</td>\n",
       "    </tr>\n",
       "  </tbody>\n",
       "</table>\n",
       "<p>5 rows × 46 columns</p>\n",
       "</div>"
      ],
      "text/plain": [
       "    Unnamed: 0_x  Image ID  Room 0 Area (sq. meters)  \\\n",
       "2              2         2                 38.448303   \n",
       "4              4         4                 32.382202   \n",
       "9              9         9                 34.621765   \n",
       "16            16        16                 27.280151   \n",
       "22            22        22                 33.810974   \n",
       "\n",
       "    Room 1 Area (sq. meters)  Room 2 Area (sq. meters)  \\\n",
       "2                  14.871094                  8.429260   \n",
       "4                  12.814453                  5.472839   \n",
       "9                  15.123230                  7.203186   \n",
       "16                 17.575378                  6.451721   \n",
       "22                 13.417603                  9.769043   \n",
       "\n",
       "    Room 3 Area (sq. meters)  Room 4 Area (sq. meters)  \\\n",
       "2                   5.072388                       0.0   \n",
       "4                   3.737549                       0.0   \n",
       "9                   3.342041                       0.0   \n",
       "16                  5.210815                       0.0   \n",
       "22                  6.011719                       0.0   \n",
       "\n",
       "    Room 5 Area (sq. meters)  Room 6 Area (sq. meters)  \\\n",
       "2                        0.0                       0.0   \n",
       "4                        0.0                       0.0   \n",
       "9                        0.0                       0.0   \n",
       "16                       0.0                       0.0   \n",
       "22                       0.0                       0.0   \n",
       "\n",
       "    Room 7 Area (sq. meters)  ...  room1_valid_y  room2_valid_y  \\\n",
       "2                  12.280518  ...           True           True   \n",
       "4                  13.081421  ...           True           True   \n",
       "9                  12.280518  ...           True           True   \n",
       "16                 16.334473  ...           True           True   \n",
       "22                 11.311523  ...           True           True   \n",
       "\n",
       "    room3_valid_y  room4_valid_y  room5_valid_y  room6_valid_y  room7_valid_y  \\\n",
       "2            True           True           True           True           True   \n",
       "4            True           True           True           True           True   \n",
       "9            True           True           True           True           True   \n",
       "16           True           True           True           True           True   \n",
       "22           True           True           True           True           True   \n",
       "\n",
       "    room8_valid_y  room9_valid_y  width_valid  \n",
       "2            True           True         True  \n",
       "4            True           True         True  \n",
       "9            True           True         True  \n",
       "16           True           True         True  \n",
       "22           True           True         True  \n",
       "\n",
       "[5 rows x 46 columns]"
      ]
     },
     "execution_count": 18,
     "metadata": {},
     "output_type": "execute_result"
    }
   ],
   "source": [
    "filtered_df = df[(df['width_valid'] == True) & (df['area_valid'] == True)]\n",
    "filtered_df.head()\n",
    "\n"
   ]
  },
  {
   "cell_type": "code",
   "execution_count": 19,
   "metadata": {},
   "outputs": [
    {
     "data": {
      "text/plain": [
       "(13315, 46)"
      ]
     },
     "execution_count": 19,
     "metadata": {},
     "output_type": "execute_result"
    }
   ],
   "source": [
    "filtered_df.shape"
   ]
  },
  {
   "cell_type": "code",
   "execution_count": 21,
   "metadata": {},
   "outputs": [],
   "source": [
    "filtered_df.to_csv('Updated Filtered Layouts.csv')"
   ]
  },
  {
   "cell_type": "code",
   "execution_count": 25,
   "metadata": {},
   "outputs": [],
   "source": [
    "filtered_plans=list(filtered_df['Image ID'])"
   ]
  },
  {
   "cell_type": "code",
   "execution_count": 26,
   "metadata": {},
   "outputs": [],
   "source": [
    "np.save('ValidRoomIndices.npy',filtered_plans)"
   ]
  },
  {
   "cell_type": "code",
   "execution_count": 27,
   "metadata": {},
   "outputs": [
    {
     "data": {
      "text/plain": [
       "array([    2,     4,     9, ..., 80747, 80779, 80782])"
      ]
     },
     "execution_count": 27,
     "metadata": {},
     "output_type": "execute_result"
    }
   ],
   "source": [
    "np.load(\"ValidRoomIndices.npy\",allow_pickle=True)"
   ]
  },
  {
   "cell_type": "code",
   "execution_count": 28,
   "metadata": {},
   "outputs": [
    {
     "data": {
      "text/html": [
       "<div>\n",
       "<style scoped>\n",
       "    .dataframe tbody tr th:only-of-type {\n",
       "        vertical-align: middle;\n",
       "    }\n",
       "\n",
       "    .dataframe tbody tr th {\n",
       "        vertical-align: top;\n",
       "    }\n",
       "\n",
       "    .dataframe thead th {\n",
       "        text-align: right;\n",
       "    }\n",
       "</style>\n",
       "<table border=\"1\" class=\"dataframe\">\n",
       "  <thead>\n",
       "    <tr style=\"text-align: right;\">\n",
       "      <th></th>\n",
       "      <th>Unnamed: 0_x</th>\n",
       "      <th>Image ID</th>\n",
       "      <th>Room 0 Area (sq. meters)</th>\n",
       "      <th>Room 1 Area (sq. meters)</th>\n",
       "      <th>Room 2 Area (sq. meters)</th>\n",
       "      <th>Room 3 Area (sq. meters)</th>\n",
       "      <th>Room 4 Area (sq. meters)</th>\n",
       "      <th>Room 5 Area (sq. meters)</th>\n",
       "      <th>Room 6 Area (sq. meters)</th>\n",
       "      <th>Room 7 Area (sq. meters)</th>\n",
       "      <th>...</th>\n",
       "      <th>room1_valid_y</th>\n",
       "      <th>room2_valid_y</th>\n",
       "      <th>room3_valid_y</th>\n",
       "      <th>room4_valid_y</th>\n",
       "      <th>room5_valid_y</th>\n",
       "      <th>room6_valid_y</th>\n",
       "      <th>room7_valid_y</th>\n",
       "      <th>room8_valid_y</th>\n",
       "      <th>room9_valid_y</th>\n",
       "      <th>width_valid</th>\n",
       "    </tr>\n",
       "  </thead>\n",
       "  <tbody>\n",
       "    <tr>\n",
       "      <th>2</th>\n",
       "      <td>2</td>\n",
       "      <td>2</td>\n",
       "      <td>38.448303</td>\n",
       "      <td>14.871094</td>\n",
       "      <td>8.429260</td>\n",
       "      <td>5.072388</td>\n",
       "      <td>0.0</td>\n",
       "      <td>0.0</td>\n",
       "      <td>0.0</td>\n",
       "      <td>12.280518</td>\n",
       "      <td>...</td>\n",
       "      <td>True</td>\n",
       "      <td>True</td>\n",
       "      <td>True</td>\n",
       "      <td>True</td>\n",
       "      <td>True</td>\n",
       "      <td>True</td>\n",
       "      <td>True</td>\n",
       "      <td>True</td>\n",
       "      <td>True</td>\n",
       "      <td>True</td>\n",
       "    </tr>\n",
       "    <tr>\n",
       "      <th>4</th>\n",
       "      <td>4</td>\n",
       "      <td>4</td>\n",
       "      <td>32.382202</td>\n",
       "      <td>12.814453</td>\n",
       "      <td>5.472839</td>\n",
       "      <td>3.737549</td>\n",
       "      <td>0.0</td>\n",
       "      <td>0.0</td>\n",
       "      <td>0.0</td>\n",
       "      <td>13.081421</td>\n",
       "      <td>...</td>\n",
       "      <td>True</td>\n",
       "      <td>True</td>\n",
       "      <td>True</td>\n",
       "      <td>True</td>\n",
       "      <td>True</td>\n",
       "      <td>True</td>\n",
       "      <td>True</td>\n",
       "      <td>True</td>\n",
       "      <td>True</td>\n",
       "      <td>True</td>\n",
       "    </tr>\n",
       "    <tr>\n",
       "      <th>9</th>\n",
       "      <td>9</td>\n",
       "      <td>9</td>\n",
       "      <td>34.621765</td>\n",
       "      <td>15.123230</td>\n",
       "      <td>7.203186</td>\n",
       "      <td>3.342041</td>\n",
       "      <td>0.0</td>\n",
       "      <td>0.0</td>\n",
       "      <td>0.0</td>\n",
       "      <td>12.280518</td>\n",
       "      <td>...</td>\n",
       "      <td>True</td>\n",
       "      <td>True</td>\n",
       "      <td>True</td>\n",
       "      <td>True</td>\n",
       "      <td>True</td>\n",
       "      <td>True</td>\n",
       "      <td>True</td>\n",
       "      <td>True</td>\n",
       "      <td>True</td>\n",
       "      <td>True</td>\n",
       "    </tr>\n",
       "    <tr>\n",
       "      <th>16</th>\n",
       "      <td>16</td>\n",
       "      <td>16</td>\n",
       "      <td>27.280151</td>\n",
       "      <td>17.575378</td>\n",
       "      <td>6.451721</td>\n",
       "      <td>5.210815</td>\n",
       "      <td>0.0</td>\n",
       "      <td>0.0</td>\n",
       "      <td>0.0</td>\n",
       "      <td>16.334473</td>\n",
       "      <td>...</td>\n",
       "      <td>True</td>\n",
       "      <td>True</td>\n",
       "      <td>True</td>\n",
       "      <td>True</td>\n",
       "      <td>True</td>\n",
       "      <td>True</td>\n",
       "      <td>True</td>\n",
       "      <td>True</td>\n",
       "      <td>True</td>\n",
       "      <td>True</td>\n",
       "    </tr>\n",
       "    <tr>\n",
       "      <th>22</th>\n",
       "      <td>22</td>\n",
       "      <td>22</td>\n",
       "      <td>33.810974</td>\n",
       "      <td>13.417603</td>\n",
       "      <td>9.769043</td>\n",
       "      <td>6.011719</td>\n",
       "      <td>0.0</td>\n",
       "      <td>0.0</td>\n",
       "      <td>0.0</td>\n",
       "      <td>11.311523</td>\n",
       "      <td>...</td>\n",
       "      <td>True</td>\n",
       "      <td>True</td>\n",
       "      <td>True</td>\n",
       "      <td>True</td>\n",
       "      <td>True</td>\n",
       "      <td>True</td>\n",
       "      <td>True</td>\n",
       "      <td>True</td>\n",
       "      <td>True</td>\n",
       "      <td>True</td>\n",
       "    </tr>\n",
       "  </tbody>\n",
       "</table>\n",
       "<p>5 rows × 46 columns</p>\n",
       "</div>"
      ],
      "text/plain": [
       "    Unnamed: 0_x  Image ID  Room 0 Area (sq. meters)  \\\n",
       "2              2         2                 38.448303   \n",
       "4              4         4                 32.382202   \n",
       "9              9         9                 34.621765   \n",
       "16            16        16                 27.280151   \n",
       "22            22        22                 33.810974   \n",
       "\n",
       "    Room 1 Area (sq. meters)  Room 2 Area (sq. meters)  \\\n",
       "2                  14.871094                  8.429260   \n",
       "4                  12.814453                  5.472839   \n",
       "9                  15.123230                  7.203186   \n",
       "16                 17.575378                  6.451721   \n",
       "22                 13.417603                  9.769043   \n",
       "\n",
       "    Room 3 Area (sq. meters)  Room 4 Area (sq. meters)  \\\n",
       "2                   5.072388                       0.0   \n",
       "4                   3.737549                       0.0   \n",
       "9                   3.342041                       0.0   \n",
       "16                  5.210815                       0.0   \n",
       "22                  6.011719                       0.0   \n",
       "\n",
       "    Room 5 Area (sq. meters)  Room 6 Area (sq. meters)  \\\n",
       "2                        0.0                       0.0   \n",
       "4                        0.0                       0.0   \n",
       "9                        0.0                       0.0   \n",
       "16                       0.0                       0.0   \n",
       "22                       0.0                       0.0   \n",
       "\n",
       "    Room 7 Area (sq. meters)  ...  room1_valid_y  room2_valid_y  \\\n",
       "2                  12.280518  ...           True           True   \n",
       "4                  13.081421  ...           True           True   \n",
       "9                  12.280518  ...           True           True   \n",
       "16                 16.334473  ...           True           True   \n",
       "22                 11.311523  ...           True           True   \n",
       "\n",
       "    room3_valid_y  room4_valid_y  room5_valid_y  room6_valid_y  room7_valid_y  \\\n",
       "2            True           True           True           True           True   \n",
       "4            True           True           True           True           True   \n",
       "9            True           True           True           True           True   \n",
       "16           True           True           True           True           True   \n",
       "22           True           True           True           True           True   \n",
       "\n",
       "    room8_valid_y  room9_valid_y  width_valid  \n",
       "2            True           True         True  \n",
       "4            True           True         True  \n",
       "9            True           True         True  \n",
       "16           True           True         True  \n",
       "22           True           True         True  \n",
       "\n",
       "[5 rows x 46 columns]"
      ]
     },
     "execution_count": 28,
     "metadata": {},
     "output_type": "execute_result"
    }
   ],
   "source": [
    "filtered_df.head()"
   ]
  },
  {
   "cell_type": "code",
   "execution_count": 29,
   "metadata": {},
   "outputs": [],
   "source": [
    "rooms_list=['Room 0 Area (sq. meters)', 'Room 1 Area (sq. meters)',\n",
    "       'Room 2 Area (sq. meters)', 'Room 3 Area (sq. meters)',\n",
    "       'Room 4 Area (sq. meters)', 'Room 5 Area (sq. meters)',\n",
    "       'Room 6 Area (sq. meters)', 'Room 7 Area (sq. meters)',\n",
    "       'Room 8 Area (sq. meters)', 'Room 9 Area (sq. meters)']"
   ]
  },
  {
   "cell_type": "code",
   "execution_count": 30,
   "metadata": {},
   "outputs": [],
   "source": [
    "import random\n",
    "def random_sampling(mean,std_dev):\n",
    "    lower_bound = mean - std_dev\n",
    "    upper_bound = mean + std_dev\n",
    "\n",
    "    # Generate a random number within the range\n",
    "    random_number = random.uniform(lower_bound, upper_bound)\n",
    "\n",
    "    print(f\"Random number within one standard deviation: {random_number}\")\n"
   ]
  },
  {
   "cell_type": "code",
   "execution_count": 31,
   "metadata": {},
   "outputs": [
    {
     "name": "stdout",
     "output_type": "stream",
     "text": [
      "{'Room 0 Area (sq. meters)': (33.43589147277431, 7.036223713828846), 'Room 1 Area (sq. meters)': (15.504279405719116, 3.7654815257603778), 'Room 2 Area (sq. meters)': (6.870493120996019, 2.576787001144856), 'Room 3 Area (sq. meters)': (4.725496674477281, 1.5169596248016322), 'Room 4 Area (sq. meters)': (0.09472248738092376, 1.1425439764725245), 'Room 5 Area (sq. meters)': (0.12556222019947427, 1.2913083157476073), 'Room 6 Area (sq. meters)': (0.27335189034570034, 1.8465601972353631), 'Room 7 Area (sq. meters)': (11.369191387604129, 3.7823571828402565), 'Room 8 Area (sq. meters)': (0.030254194122418324, 0.694558377875128), 'Room 9 Area (sq. meters)': (3.803262087344649, 2.4050004647626504)}\n"
     ]
    }
   ],
   "source": [
    "stat_summary=dict()\n",
    "for i in rooms_list:\n",
    "    std_dev=np.std(filtered_df[i])\n",
    "    avg=np.mean(filtered_df[i])\n",
    "    stat_summary[i]=(avg,std_dev)\n",
    "\n",
    "print(stat_summary)"
   ]
  },
  {
   "cell_type": "code",
   "execution_count": 34,
   "metadata": {},
   "outputs": [
    {
     "data": {
      "text/plain": [
       "(33.43589147277431, 7.036223713828846)"
      ]
     },
     "execution_count": 34,
     "metadata": {},
     "output_type": "execute_result"
    }
   ],
   "source": [
    "stat_summary['Room 0 Area (sq. meters)']"
   ]
  },
  {
   "cell_type": "code",
   "execution_count": 33,
   "metadata": {},
   "outputs": [
    {
     "name": "stdout",
     "output_type": "stream",
     "text": [
      "Random number within one standard deviation: 31.351378060147525\n"
     ]
    }
   ],
   "source": [
    "random_sampling(stat_summary['Room 0 Area (sq. meters)'][0],stat_summary['Room 0 Area (sq. meters)'][1])"
   ]
  }
 ],
 "metadata": {
  "kernelspec": {
   "display_name": "base",
   "language": "python",
   "name": "python3"
  },
  "language_info": {
   "codemirror_mode": {
    "name": "ipython",
    "version": 3
   },
   "file_extension": ".py",
   "mimetype": "text/x-python",
   "name": "python",
   "nbconvert_exporter": "python",
   "pygments_lexer": "ipython3",
   "version": "3.11.3"
  },
  "orig_nbformat": 4
 },
 "nbformat": 4,
 "nbformat_minor": 2
}
