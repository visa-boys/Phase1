{
 "cells": [
  {
   "cell_type": "code",
   "execution_count": 1,
   "metadata": {},
   "outputs": [],
   "source": [
    "import tensorflow as tf\n",
    "from tensorflow.keras.layers import Layer\n",
    "from tensorflow.keras import Model\n",
    "from tensorflow.keras import backend as k\n",
    "import numpy as np\n",
    "import json\n",
    "import os\n",
    "import gc\n",
    "import matplotlib.pyplot as plt\n",
    "from matplotlib.patches import Patch"
   ]
  },
  {
   "cell_type": "code",
   "execution_count": 2,
   "metadata": {},
   "outputs": [],
   "source": [
    "class MMHSALayer(Layer):\n",
    "    def __init__(self,heads=8):\n",
    "        super(MMHSALayer, self).__init__()\n",
    "        self.heads = heads\n",
    "\n",
    "    def build(self,input_shape):\n",
    "        self.model_dim = input_shape[-2]\n",
    "        self.k = self.add_weight(shape=(self.heads,self.model_dim,self.model_dim),\n",
    "                                 initializer='random_normal',\n",
    "                                 trainable=True,\n",
    "                                 name=\"Key\")\n",
    "        self.q = self.add_weight(shape=(self.heads,self.model_dim,self.model_dim),\n",
    "                                 initializer='random_normal',\n",
    "                                 trainable=True,\n",
    "                                 name=\"Query\")\n",
    "        self.v = self.add_weight(shape=(self.heads,self.model_dim,self.model_dim),\n",
    "                                 initializer='random_normal',\n",
    "                                 trainable=True,\n",
    "                                 name=\"Value\")\n",
    "        self.o = self.add_weight(shape=(self.model_dim,self.model_dim*self.heads),\n",
    "                                 initializer='random_normal',\n",
    "                                 trainable=True,\n",
    "                                 name=\"Heads\")\n",
    "\n",
    "    def call(self,inputs):\n",
    "        mask_shape = inputs.shape[-1]\n",
    "\n",
    "        mask_0 = np.ones((mask_shape,mask_shape))\n",
    "        for i in range(mask_shape):\n",
    "            for j in range(mask_shape):\n",
    "                if (i>j):\n",
    "                    mask_0[i][j]=0\n",
    "        self.mask_0 = tf.constant(mask_0,dtype=tf.float32)\n",
    "\n",
    "        mask_inf = np.zeros((mask_shape,mask_shape))\n",
    "        for i in range(mask_shape):\n",
    "            for j in range(mask_shape):\n",
    "                if (i>j):\n",
    "                    mask_inf[i][j]=-10000000000\n",
    "        self.mask_inf = tf.constant(mask_inf,dtype=tf.float32)\n",
    "\n",
    "        inputs = tf.expand_dims(inputs,1)\n",
    "\n",
    "        key=tf.matmul(self.k,inputs)\n",
    "        que=tf.matmul(self.q,inputs)\n",
    "        val=tf.matmul(self.v,inputs)\n",
    "\n",
    "        Z=tf.matmul(tf.transpose(key,perm=[0,1,3,2]),que)*(1/np.sqrt(self.model_dim))\n",
    "        W=tf.multiply(Z,self.mask_0)\n",
    "        W=tf.add(W,self.mask_inf)\n",
    "        W=tf.keras.activations.softmax(W,axis=1)\n",
    "        W=tf.multiply(W,self.mask_0)\n",
    "        W=tf.matmul(val,W)\n",
    "\n",
    "        W = tf.reshape(W,(inputs.shape[0],self.model_dim*self.heads,mask_shape))\n",
    "\n",
    "        ans = W\n",
    "\n",
    "        ans = tf.matmul(self.o,ans)\n",
    "        ans=tf.expand_dims(ans,0)\n",
    "\n",
    "        ans = tf.squeeze(ans,axis=0)\n",
    "\n",
    "        return ans\n",
    "\n",
    "class Dense2D(Layer):\n",
    "    def __init__(self,units):\n",
    "        super(Dense2D, self).__init__()\n",
    "        self.units = units\n",
    "\n",
    "    def build(self,input_shape):\n",
    "        input_len = input_shape[-2]\n",
    "\n",
    "        self.w = self.add_weight(shape=(self.units,input_len),\n",
    "                                 initializer='random_normal',\n",
    "                                 trainable=True,\n",
    "                                 name=\"dense2dw\")\n",
    "\n",
    "    def call(self,inputs):\n",
    "\n",
    "        ans = tf.matmul(self.w,inputs)\n",
    "\n",
    "        return ans\n",
    "\n",
    "class FFLayer(Layer):\n",
    "    def __init__(self, dff=2048, dropout=0.1):\n",
    "        super(FFLayer,self).__init__()\n",
    "        self.dff = dff\n",
    "        self.dropout = dropout\n",
    "\n",
    "    def build(self,input_shape):\n",
    "        self.dropout = tf.keras.layers.Dropout(self.dropout)\n",
    "        self.dout = input_shape[-2]\n",
    "\n",
    "        self.w1 = self.add_weight(shape=(self.dff,self.dout),\n",
    "                                 initializer='random_normal',\n",
    "                                 trainable=True,\n",
    "                                 name=\"ffw1\")\n",
    "        self.w2 = self.add_weight(shape=(self.dout,self.dff),\n",
    "                                 initializer='random_normal',\n",
    "                                 trainable=True,\n",
    "                                 name=\"ffw2\")\n",
    "        self.b1 = self.add_weight(shape=(self.dff,1),\n",
    "                                 initializer='random_normal',\n",
    "                                 trainable=True,\n",
    "                                 name=\"ffb1\")\n",
    "        self.b2 = self.add_weight(shape=(self.dout,1),\n",
    "                                 initializer='random_normal',\n",
    "                                 trainable=True,\n",
    "                                 name=\"ffb2\")\n",
    "\n",
    "    def call(self,inputs):\n",
    "\n",
    "        ans = tf.add(tf.matmul(self.w1,inputs),self.b1)\n",
    "        ans = tf.keras.activations.relu(ans)\n",
    "        ans = tf.add(tf.matmul(self.w2,ans),self.b2)\n",
    "\n",
    "        ans = self.dropout(ans)\n",
    "\n",
    "        return ans\n",
    "\n",
    "class ANLayer(Layer):\n",
    "    def __init__(self):\n",
    "        super(ANLayer,self).__init__()\n",
    "        self.Normal = tf.keras.layers.LayerNormalization(axis=1)\n",
    "\n",
    "    def call(self,inputs1,inputs2):\n",
    "        sum = tf.add(inputs1,inputs2)\n",
    "        ans=self.Normal(sum)\n",
    "        return ans"
   ]
  },
  {
   "cell_type": "code",
   "execution_count": 3,
   "metadata": {},
   "outputs": [],
   "source": [
    "class LTModel(Model):\n",
    "    def __init__(self, input_shape, layers, heads, dff, model_dim, dropout):\n",
    "        super(LTModel, self).__init__()\n",
    "\n",
    "        self.emb = Dense2D(model_dim)\n",
    "\n",
    "        self.SA = []\n",
    "        self.AN1 = []\n",
    "        self.FF = []\n",
    "        self.AN2 = []\n",
    "\n",
    "        for i in range(layers):\n",
    "            self.SA.append(MMHSALayer(heads))\n",
    "            self.AN1.append(ANLayer())\n",
    "            self.FF.append(FFLayer(dff, dropout))\n",
    "            self.AN2.append(ANLayer())\n",
    "\n",
    "        self.deemb = Dense2D(input_shape)\n",
    "        self.sm = tf.keras.layers.Softmax(axis=1)\n",
    "\n",
    "    def call(self, x):\n",
    "        x = self.emb(x)\n",
    "\n",
    "        for i in range(len(self.SA)):\n",
    "            y = self.SA[i](x)\n",
    "            x = self.AN1[i](x,y)\n",
    "            y = self.FF[i](x)\n",
    "            x = self.AN2[i](x,y)\n",
    "\n",
    "        x = self.deemb(x)\n",
    "        x = self.sm(x)\n",
    "\n",
    "        return x"
   ]
  },
  {
   "cell_type": "code",
   "execution_count": 4,
   "metadata": {},
   "outputs": [],
   "source": [
    "class LayoutTransformer:\n",
    "\n",
    "    def __init__(self, n_classes, class_labels=None, n_anchors=(32,32), d=512, n_layers=6, n_heads=8, dff=2048, dropout=0.1):\n",
    "        self.n_classes = n_classes+2\n",
    "        self.n_anchors = n_anchors\n",
    "        self.d = d\n",
    "        self.n_layers = n_layers\n",
    "        self.n_heads = n_heads\n",
    "        self.dff = dff\n",
    "        self.dropout = dropout\n",
    "        self.n_row = n_anchors[0]\n",
    "        self.n_col = n_anchors[1]\n",
    "        self.input_dim = 2+n_classes+2*(n_anchors[0]+n_anchors[1])\n",
    "        self.model = LTModel(self.input_dim, model_dim=d, layers=n_layers, heads=n_heads, dff=dff, dropout=dropout)\n",
    "        self.loss_his = []\n",
    "\n",
    "    def build(self):\n",
    "        self.model.build((1,self.input_dim,1))\n",
    "\n",
    "    def load_weights(self, folder_path, filename):\n",
    "        self.build()\n",
    "        self.model.load_weights(folder_path + '/' + str(filename) + '.h5')\n",
    "\n",
    "    def summary(self):\n",
    "        self.build()\n",
    "        print(self.model.summary())"
   ]
  },
  {
   "cell_type": "code",
   "execution_count": 5,
   "metadata": {},
   "outputs": [
    {
     "data": {
      "text/plain": [
       "(80788, 141, 10)"
      ]
     },
     "execution_count": 5,
     "metadata": {},
     "output_type": "execute_result"
    }
   ],
   "source": [
    "import numpy as np\n",
    "x_data=np.load('C://Users//kishore prashanth//Downloads//x_data.npy',allow_pickle=True)\n",
    "x_data.shape"
   ]
  },
  {
   "cell_type": "code",
   "execution_count": 6,
   "metadata": {},
   "outputs": [],
   "source": [
    "publay_model = LayoutTransformer(n_classes=11, class_labels=[\"None\",\"Living room\",\"Master room\",\"Kitchen\",\"Bathroom\",\"Dining room\",\n",
    "              \"Child room\",\"Study room\",\"Second room\",\"Guest room\",\"Balcony\"])"
   ]
  },
  {
   "cell_type": "code",
   "execution_count": 7,
   "metadata": {},
   "outputs": [],
   "source": [
    "publay_model.load_weights(\"C://Users//kishore prashanth//Desktop//Second Review//\",\"modelT20\")"
   ]
  },
  {
   "cell_type": "code",
   "execution_count": 9,
   "metadata": {},
   "outputs": [
    {
     "name": "stdout",
     "output_type": "stream",
     "text": [
      "Model: \"lt_model\"\n",
      "_________________________________________________________________\n",
      " Layer (type)                Output Shape              Param #   \n",
      "=================================================================\n",
      " dense2d (Dense2D)           multiple                  72192     \n",
      "                                                                 \n",
      " mmhsa_layer (MMHSALayer)    multiple                  8388608   \n",
      "                                                                 \n",
      " mmhsa_layer_1 (MMHSALayer)  multiple                  8388608   \n",
      "                                                                 \n",
      " mmhsa_layer_2 (MMHSALayer)  multiple                  8388608   \n",
      "                                                                 \n",
      " mmhsa_layer_3 (MMHSALayer)  multiple                  8388608   \n",
      "                                                                 \n",
      " mmhsa_layer_4 (MMHSALayer)  multiple                  8388608   \n",
      "                                                                 \n",
      " mmhsa_layer_5 (MMHSALayer)  multiple                  8388608   \n",
      "                                                                 \n",
      " an_layer (ANLayer)          multiple                  1024      \n",
      "                                                                 \n",
      " an_layer_2 (ANLayer)        multiple                  1024      \n",
      "                                                                 \n",
      " an_layer_4 (ANLayer)        multiple                  1024      \n",
      "                                                                 \n",
      " an_layer_6 (ANLayer)        multiple                  1024      \n",
      "                                                                 \n",
      " an_layer_8 (ANLayer)        multiple                  1024      \n",
      "                                                                 \n",
      " an_layer_10 (ANLayer)       multiple                  1024      \n",
      "                                                                 \n",
      " ff_layer (FFLayer)          multiple                  2099712   \n",
      "                                                                 \n",
      " ff_layer_1 (FFLayer)        multiple                  2099712   \n",
      "                                                                 \n",
      " ff_layer_2 (FFLayer)        multiple                  2099712   \n",
      "                                                                 \n",
      " ff_layer_3 (FFLayer)        multiple                  2099712   \n",
      "                                                                 \n",
      " ff_layer_4 (FFLayer)        multiple                  2099712   \n",
      "                                                                 \n",
      " ff_layer_5 (FFLayer)        multiple                  2099712   \n",
      "                                                                 \n",
      " an_layer_1 (ANLayer)        multiple                  1024      \n",
      "                                                                 \n",
      " an_layer_3 (ANLayer)        multiple                  1024      \n",
      "                                                                 \n",
      " an_layer_5 (ANLayer)        multiple                  1024      \n",
      "                                                                 \n",
      " an_layer_7 (ANLayer)        multiple                  1024      \n",
      "                                                                 \n",
      " an_layer_9 (ANLayer)        multiple                  1024      \n",
      "                                                                 \n",
      " an_layer_11 (ANLayer)       multiple                  1024      \n",
      "                                                                 \n",
      " dense2d_1 (Dense2D)         multiple                  72192     \n",
      "                                                                 \n",
      " softmax (Softmax)           multiple                  0         \n",
      "                                                                 \n",
      "=================================================================\n",
      "Total params: 63086592 (240.66 MB)\n",
      "Trainable params: 63086592 (240.66 MB)\n",
      "Non-trainable params: 0 (0.00 Byte)\n",
      "_________________________________________________________________\n",
      "None\n"
     ]
    }
   ],
   "source": [
    "publay_model.summary()"
   ]
  },
  {
   "cell_type": "code",
   "execution_count": 8,
   "metadata": {},
   "outputs": [],
   "source": [
    "def onehot(box, prob=[-1,-1,-1,-1,-1]):\n",
    "      p = 1.0\n",
    "      c = np.argsort(box[0:publay_model.n_classes],axis=0)[prob[0]]\n",
    "      x = np.argsort(box[publay_model.n_classes:publay_model.n_classes+publay_model.n_col],axis=0)[prob[1]] + publay_model.n_classes\n",
    "      y = np.argsort(box[publay_model.n_classes+publay_model.n_col:publay_model.n_classes+publay_model.n_col+publay_model.n_row],axis=0)[prob[2]] + publay_model.n_classes+publay_model.n_col\n",
    "      w = np.argsort(box[publay_model.n_classes+publay_model.n_col+publay_model.n_row:publay_model.n_classes+2*publay_model.n_col+publay_model.n_row],axis=0)[prob[3]] + publay_model.n_classes+publay_model.n_col+publay_model.n_row\n",
    "      h = np.argsort(box[publay_model.n_classes+2*publay_model.n_col+publay_model.n_row:publay_model.n_classes+2*publay_model.n_col+2*publay_model.n_row],axis=0)[prob[4]] + publay_model.n_classes+2*publay_model.n_col+publay_model.n_row\n",
    "      p = p*box[c][0]*box[x][0]*box[y][0]*box[w][0]*box[h][0]\n",
    "      res = np.zeros((publay_model.input_dim,1))\n",
    "      res[c,0]=1\n",
    "      res[x,0]=1\n",
    "      res[y,0]=1\n",
    "      res[w,0]=1\n",
    "      res[h,0]=1\n",
    "      return (res,p)"
   ]
  },
  {
   "cell_type": "code",
   "execution_count": 9,
   "metadata": {},
   "outputs": [],
   "source": [
    "def get_color(c):\n",
    "      color_key = [\"#00ffff\",\"#fff5ee\",\"#dc143c\",\"#ffff00\",\"#00ff00\",\"#ff00ff\",\"#1e90ff\",\n",
    "                    \"#ff1493\",\"#8b008b\",\"#ff4500\",\"#8b4513\",\"#808000\",\"#483d8b\"]\n",
    "      return color_key[int(c)]"
   ]
  },
  {
   "cell_type": "code",
   "execution_count": 10,
   "metadata": {},
   "outputs": [],
   "source": [
    "def sort_prob(rooms):\n",
    "        p = [int(p) for box,p in rooms]\n",
    "        p = np.argsort(p)[::-1]\n",
    "        res = []\n",
    "        for i in p:\n",
    "            res.append(rooms[i])\n",
    "        return res"
   ]
  },
  {
   "cell_type": "code",
   "execution_count": 11,
   "metadata": {},
   "outputs": [
    {
     "name": "stdout",
     "output_type": "stream",
     "text": [
      "2000  is not present\n"
     ]
    }
   ],
   "source": [
    "validRoomIds=np.load('C://Users//kishore prashanth//Downloads//ValidRoomIndices.npy')\n",
    "roomID=2000\n",
    "if roomID in validRoomIds:\n",
    "    print(roomID,\" is present\")\n",
    "else:\n",
    "    print(roomID,\" is not present\")"
   ]
  },
  {
   "cell_type": "code",
   "execution_count": 12,
   "metadata": {},
   "outputs": [
    {
     "data": {
      "text/plain": [
       "658"
      ]
     },
     "execution_count": 12,
     "metadata": {},
     "output_type": "execute_result"
    }
   ],
   "source": [
    "validRoomIds[99]"
   ]
  },
  {
   "cell_type": "code",
   "execution_count": 13,
   "metadata": {},
   "outputs": [],
   "source": [
    "which_img=[658]\n",
    "which_rooms=[0,1,2]"
   ]
  },
  {
   "cell_type": "code",
   "execution_count": 14,
   "metadata": {},
   "outputs": [
    {
     "name": "stdout",
     "output_type": "stream",
     "text": [
      "0\n",
      "0th index - BOS\n",
      "1th index - Kitchen\n",
      "2th index - Living room\n",
      "3th index - Second room\n",
      "4th index - Balcony\n",
      "5th index - Bathroom\n",
      "6th index - Balcony\n",
      "7th index - Master room\n",
      "8th index - Balcony\n",
      "9th index - None\n"
     ]
    },
    {
     "name": "stderr",
     "output_type": "stream",
     "text": [
      "C:\\Users\\kishore prashanth\\AppData\\Local\\Temp\\ipykernel_7812\\4171087101.py:10: DeprecationWarning: Conversion of an array with ndim > 0 to a scalar is deprecated, and will error in future. Ensure you extract a single element from your array before performing this operation. (Deprecated NumPy 1.25.)\n",
      "  print(str(index)+\"th index - \"+class_labels[int(c)])\n"
     ]
    }
   ],
   "source": [
    "X=x_data[which_img,:,:]\n",
    "class_labels=[\"BOS\",\"None\",\"Living room\",\"Master room\",\"Kitchen\",\"Bathroom\",\"Dining room\",\n",
    "              \"Child room\",\"Study room\",\"Second room\",\"Guest room\",\"Balcony\",\"EOS\"]\n",
    "for input_count,input in enumerate(X):\n",
    "  print(input_count)\n",
    "  input=np.array([input])\n",
    "  index=0\n",
    "  for box in input.T:\n",
    "      c = np.argmax(box[0:publay_model.n_classes],axis=0)\n",
    "      print(str(index)+\"th index - \"+class_labels[int(c)])\n",
    "      index+=1"
   ]
  },
  {
   "cell_type": "code",
   "execution_count": 15,
   "metadata": {},
   "outputs": [],
   "source": [
    "import matplotlib.patches as mpatches\n",
    "labels = [\"Living room\",\"Master room\",\"Kitchen\",\"Bathroom\",\"Dining room\",\n",
    "              \"Child room\",\"Study room\",\"Second room\",\"Guest room\",\"Balcony\"]\n",
    "colors = [get_color(i) for i in range(2,12)]\n",
    "legend_handles=[]\n",
    "for i in range(len(labels)):\n",
    "  legend_handles.append(mpatches.Patch(color=colors[i], label=labels[i]))"
   ]
  },
  {
   "cell_type": "code",
   "execution_count": 16,
   "metadata": {},
   "outputs": [
    {
     "name": "stderr",
     "output_type": "stream",
     "text": [
      "C:\\Users\\kishore prashanth\\AppData\\Local\\Temp\\ipykernel_7812\\2026598694.py:4: DeprecationWarning: Conversion of an array with ndim > 0 to a scalar is deprecated, and will error in future. Ensure you extract a single element from your array before performing this operation. (Deprecated NumPy 1.25.)\n",
      "  return color_key[int(c)]\n"
     ]
    },
    {
     "data": {
      "image/png": "[encoded data removed]",
      "text/plain": [
       "<Figure size 640x480 with 1 Axes>"
      ]
     },
     "metadata": {},
     "output_type": "display_data"
    }
   ],
   "source": [
    "import matplotlib.pyplot as plt\n",
    "fig, ax = plt.subplots()\n",
    "#x_data[[0],:,:][:,:,[0,1,2]]\n",
    "#x_data[which_img,:,:][:,:,which_rooms]\n",
    "for box in x_data[which_img,:,:][:,:,which_rooms].T:\n",
    "    c = np.argmax(box[0:publay_model.n_classes],axis=0)\n",
    "    x = np.argmax(box[publay_model.n_classes:publay_model.n_classes+publay_model.n_col],axis=0)\n",
    "    y = np.argmax(box[publay_model.n_classes+publay_model.n_col:publay_model.n_classes+publay_model.n_col+publay_model.n_row],axis=0)\n",
    "    w = np.argmax(box[publay_model.n_classes+publay_model.n_col+publay_model.n_row:publay_model.n_classes+2*publay_model.n_col+publay_model.n_row],axis=0)\n",
    "    h = np.argmax(box[publay_model.n_classes+2*publay_model.n_col+publay_model.n_row:publay_model.n_classes+2*publay_model.n_col+2*publay_model.n_row],axis=0)\n",
    "    x,y,w,h=(x/32.0)*256,(y/32.0)*256,(w/32.0)*256,(h/32.0)*256\n",
    "    r = plt.Rectangle((x,y),w,h, fc=get_color(c), ec='#000000',linewidth=2) #ffffff #000000\n",
    "\n",
    "    if c==publay_model.n_classes-1:\n",
    "        break\n",
    "    ax.add_patch(r)\n",
    "ax.legend(handles=legend_handles, loc='upper right', bbox_to_anchor=(1, 1),prop={'size': 6})\n",
    "ax.set_xlim(0, 256)\n",
    "ax.set_ylim(0, 256)\n",
    "ax.set_title(\"Input\")\n",
    "#plt.axis('off')\n",
    "plt.show()"
   ]
  },
  {
   "cell_type": "code",
   "execution_count": 17,
   "metadata": {},
   "outputs": [],
   "source": [
    "def fn(layouts_array=[0,1],rooms_array=[0,1],max_rooms=10):\n",
    "  x=x_data[layouts_array,:,:][:,:,rooms_array]\n",
    "  res = []\n",
    "\n",
    "  for input_count,input in enumerate(x):\n",
    "      input = np.array([input])\n",
    "      most_prob_layout=[(input,1)]\n",
    "\n",
    "      for step in range(max_rooms):\n",
    "          cur = most_prob_layout.pop(0)\n",
    "          pre = np.array([publay_model.model(cur[0]).numpy()[0,:,-1]])\n",
    "          (box,p) = onehot(pre.T,[-1,-1,-1,-1,-1])\n",
    "          p=p*cur[1]\n",
    "          cur_box = np.array([box])\n",
    "          cur_doc = np.append(cur[0],cur_box,axis=2)\n",
    "\n",
    "          most_prob_layout.append((cur_doc,p))\n",
    "\n",
    "          if most_prob_layout[0][0][0,publay_model.n_classes-1,-1]==1:\n",
    "              break\n",
    "      res.append([*most_prob_layout])\n",
    "  return res\n",
    "res=fn(layouts_array=which_img,rooms_array=which_rooms,max_rooms=10)\n",
    "#res=fn(layouts_array=[0],rooms_array=[0,1,2],max_rooms=10)"
   ]
  },
  {
   "cell_type": "code",
   "execution_count": 18,
   "metadata": {},
   "outputs": [
    {
     "data": {
      "image/png": "[encoded data removed]",
      "text/plain": [
       "<Figure size 640x480 with 1 Axes>"
      ]
     },
     "metadata": {},
     "output_type": "display_data"
    }
   ],
   "source": [
    "plt.style.use('default')\n",
    "for i in range(len(res)):\n",
    "  layout=res[i][0]\n",
    "  fig, ax = plt.subplots()\n",
    "  area=[]\n",
    "  temp=[]\n",
    "  for box in layout[0].T:\n",
    "      c = np.argmax(box[0:publay_model.n_classes],axis=0)\n",
    "      x = np.argmax(box[publay_model.n_classes:publay_model.n_classes+publay_model.n_col],axis=0)\n",
    "      y = np.argmax(box[publay_model.n_classes+publay_model.n_col:publay_model.n_classes+publay_model.n_col+publay_model.n_row],axis=0)\n",
    "      w = np.argmax(box[publay_model.n_classes+publay_model.n_col+publay_model.n_row:publay_model.n_classes+2*publay_model.n_col+publay_model.n_row],axis=0)\n",
    "      h = np.argmax(box[publay_model.n_classes+2*publay_model.n_col+publay_model.n_row:publay_model.n_classes+2*publay_model.n_col+2*publay_model.n_row],axis=0)\n",
    "      x,y,w,h=(x/32.0)*256,(y/32.0)*256,(w/32.0)*256,(h/32.0)*256\n",
    "      #print(x[0],y[0],w[0],h[0])\n",
    "      area.append(w[0]*h[0])\n",
    "      temp.append((c[0],x[0],y[0],w[0],h[0]))\n",
    "      if c==publay_model.n_classes-1:\n",
    "          break\n",
    "  arr=np.argsort(area)[::-1]\n",
    "  for i in arr:\n",
    "    c,x,y,w,h=temp[i][0],temp[i][1],temp[i][2],temp[i][3],temp[i][4]\n",
    "    if c>=2 and c<=11:\n",
    "      r = plt.Rectangle((x,y),w,h, fc=get_color(c), ec='#000000',linewidth=2) #ffffff #000000\n",
    "      ax.add_patch(r)\n",
    "\n",
    "\n",
    "  ax.legend(handles=legend_handles, loc='upper right', bbox_to_anchor=(1, 1),prop={'size': 6})\n",
    "  ax.set_xlim(0, 256)\n",
    "  ax.set_ylim(0, 256)\n",
    "  ax.set_title(\"Most Probable House Layout\")\n",
    "  plt.axis('off')\n",
    "  plt.show()"
   ]
  },
  {
   "cell_type": "code",
   "execution_count": 19,
   "metadata": {},
   "outputs": [
    {
     "name": "stdout",
     "output_type": "stream",
     "text": [
      "[(48, 48, 0), (88, 48, 0), (152, 48, 0), (48, 80, 0), (64, 80, 0), (64, 112, 0), (128, 176, 0)]\n",
      "[(40, 24, 43), (72, 112, 43), (48, 48, 43), (8, 24, 43), (16, 24, 43), (40, 56, 43), (48, 16, 43)]\n",
      "['#00ff00', '#dc143c', '#ff4500', '#808000', '#ff00ff', '#ffff00', '#808000']\n"
     ]
    }
   ],
   "source": [
    "positions=[]\n",
    "sizes=[]\n",
    "colors=[]\n",
    "for i in range(len(temp)):\n",
    "    c=temp[i][0]\n",
    "    x=int(temp[i][1])\n",
    "    y=int(temp[i][2])\n",
    "    w=int(temp[i][3])\n",
    "    h=int(temp[i][4])\n",
    "    if(c>=2 and c<=11):\n",
    "        positions.append((x,y,0))\n",
    "        sizes.append((w,h,43))\n",
    "        colors.append(get_color(c))\n",
    "print(positions)\n",
    "print(sizes)\n",
    "print(colors)"
   ]
  },
  {
   "cell_type": "code",
   "execution_count": 20,
   "metadata": {},
   "outputs": [],
   "source": [
    "data = {\n",
    "    \"positions\": positions,\n",
    "    \"sizes\": sizes,\n",
    "    \"colors\": colors\n",
    "}\n",
    "\n",
    "with open('3Dpoints.json', 'w') as json_file:\n",
    "    json.dump(data, json_file)"
   ]
  },
  {
   "cell_type": "code",
   "execution_count": 40,
   "metadata": {},
   "outputs": [
    {
     "name": "stderr",
     "output_type": "stream",
     "text": [
      "C:\\Users\\kishore prashanth\\AppData\\Local\\Temp\\ipykernel_18304\\2046539511.py:2: DeprecationWarning: Conversion of an array with ndim > 0 to a scalar is deprecated, and will error in future. Ensure you extract a single element from your array before performing this operation. (Deprecated NumPy 1.25.)\n",
      "  p = [int(p) for box,p in rooms]\n"
     ]
    }
   ],
   "source": [
    "def beam_fn(layouts_array=[0,1],rooms_array=[0,1],max_rooms=10,beam_length=[1]):\n",
    "  x=x_data[layouts_array,:,:][:,:,rooms_array]\n",
    "  res = []\n",
    "\n",
    "  for input_count,input in enumerate(x):\n",
    "      input = np.array([input])\n",
    "\n",
    "      docs = []\n",
    "      q = [(input,1)]\n",
    "      for step in range(max_rooms):\n",
    "          beam = 1\n",
    "          if step<len(beam_length):\n",
    "              beam = beam_length[step]\n",
    "\n",
    "          for i in range(len(q)):\n",
    "              cur_list = []\n",
    "              cur = q.pop(0)\n",
    "              for j in ([0] if beam==1 else [0,1,2,4,8]):\n",
    "                  prob = []\n",
    "                  temp = j\n",
    "                  for k in range(5):\n",
    "                      prob.insert(0,-1-temp%2)\n",
    "                      temp = int(temp/2)\n",
    "                  pre = np.array([publay_model.model(cur[0]).numpy()[0,:,-1]])\n",
    "                  (box,p) = onehot(pre.T,prob)\n",
    "\n",
    "                  p=p*cur[1]\n",
    "                  cur_box = np.array([box])\n",
    "                  cur_doc = np.append(cur[0],cur_box,axis=2)\n",
    "\n",
    "                  cur_list.append((cur_doc,p))\n",
    "\n",
    "              cur_list = sort_prob(cur_list)\n",
    "              for j in range(beam):\n",
    "                  if cur_list[j][0][0,publay_model.n_classes-1,-1]==1:\n",
    "                      docs.append(cur_list[j])\n",
    "                  else:\n",
    "                      q.append(cur_list[j])\n",
    "\n",
    "      docs = sort_prob(docs)\n",
    "      res.append([*docs])\n",
    "  return res\n",
    "res=beam_fn(layouts_array=which_img,rooms_array=which_rooms,max_rooms=10,beam_length=[3,3,2])"
   ]
  },
  {
   "cell_type": "code",
   "execution_count": null,
   "metadata": {},
   "outputs": [],
   "source": [
    "plt.style.use('default')\n",
    "for i in range(len(res[0])):\n",
    "  layout=res[0][i][0]\n",
    "  fig, ax = plt.subplots()\n",
    "  area=[]\n",
    "  temp=[]\n",
    "  for box in layout[0].T:\n",
    "      c = np.argmax(box[0:publay_model.n_classes],axis=0)\n",
    "      x = np.argmax(box[publay_model.n_classes:publay_model.n_classes+publay_model.n_col],axis=0)\n",
    "      y = np.argmax(box[publay_model.n_classes+publay_model.n_col:publay_model.n_classes+publay_model.n_col+publay_model.n_row],axis=0)\n",
    "      w = np.argmax(box[publay_model.n_classes+publay_model.n_col+publay_model.n_row:publay_model.n_classes+2*publay_model.n_col+publay_model.n_row],axis=0)\n",
    "      h = np.argmax(box[publay_model.n_classes+2*publay_model.n_col+publay_model.n_row:publay_model.n_classes+2*publay_model.n_col+2*publay_model.n_row],axis=0)\n",
    "      x,y,w,h=(x/32.0)*256,(y/32.0)*256,(w/32.0)*256,(h/32.0)*256\n",
    "      area.append(w*h)\n",
    "      temp.append((c,x,y,w,h))\n",
    "      if c==publay_model.n_classes-1:\n",
    "          break\n",
    "  arr=np.argsort(area)[::-1]\n",
    "  for j in arr:\n",
    "    c,x,y,w,h=temp[j][0],temp[j][1],temp[j][2],temp[j][3],temp[j][4]\n",
    "    if c>=2 and c<=11:\n",
    "      r = plt.Rectangle((x,y),w,h, fc=get_color(c), ec='#000000',linewidth=2) #ffffff #000000\n",
    "      ax.add_patch(r)\n",
    "\n",
    "\n",
    "  ax.legend(handles=legend_handles, loc='upper right', bbox_to_anchor=(1, 1),prop={'size': 6})\n",
    "  ax.set_xlim(0, 256)\n",
    "  ax.set_ylim(0, 256)\n",
    "  ax.set_title(\"Beam \"+str(i+1)+\" House Layout\")\n",
    "  plt.axis('off')\n",
    "  plt.show()"
   ]
  },
  {
   "cell_type": "code",
   "execution_count": 42,
   "metadata": {},
   "outputs": [
    {
     "data": {
      "image/png": "[encoded data removed]",
      "text/plain": [
       "<Figure size 640x480 with 1 Axes>"
      ]
     },
     "metadata": {},
     "output_type": "display_data"
    }
   ],
   "source": [
    "with open('./modelT20.json') as file:\n",
    "    data=json.load(file)\n",
    "history_loss=data['loss']\n",
    "\n",
    "plt.plot(range(1, len(history_loss) + 1), history_loss, '-', color='blue', linewidth=2, label='KL Divergence')\n",
    "plt.xlabel('Epoch')\n",
    "plt.ylabel('KL Divergence')\n",
    "plt.legend()\n",
    "plt.show()"
   ]
  }
 ],
 "metadata": {
  "kernelspec": {
   "display_name": "Python 3",
   "language": "python",
   "name": "python3"
  },
  "language_info": {
   "codemirror_mode": {
    "name": "ipython",
    "version": 3
   },
   "file_extension": ".py",
   "mimetype": "text/x-python",
   "name": "python",
   "nbconvert_exporter": "python",
   "pygments_lexer": "ipython3",
   "version": "3.10.8"
  }
 },
 "nbformat": 4,
 "nbformat_minor": 2
}
