{
 "cells": [
  {
   "cell_type": "code",
   "execution_count": 5,
   "metadata": {},
   "outputs": [],
   "source": [
    "import numpy as np\n",
    "from shapely.geometry import Polygon"
   ]
  },
  {
   "cell_type": "code",
   "execution_count": 3,
   "metadata": {},
   "outputs": [
    {
     "data": {
      "text/plain": [
       "(13315, 9, 5)"
      ]
     },
     "execution_count": 3,
     "metadata": {},
     "output_type": "execute_result"
    }
   ],
   "source": [
    "res=np.load(\"C://Users//kishore prashanth//Downloads//ValidRoomIdsnumpyXcrted.npy\",allow_pickle=True)\n",
    "res.shape"
   ]
  },
  {
   "cell_type": "code",
   "execution_count": 61,
   "metadata": {},
   "outputs": [
    {
     "data": {
      "text/plain": [
       "(1000, 9, 5)"
      ]
     },
     "execution_count": 61,
     "metadata": {},
     "output_type": "execute_result"
    }
   ],
   "source": [
    "trans_res=np.load('./trans_res.npy',allow_pickle=True)\n",
    "trans_res.shape"
   ]
  },
  {
   "cell_type": "code",
   "execution_count": 29,
   "metadata": {},
   "outputs": [],
   "source": [
    "def calculate_iou(result):\n",
    "    losses=np.zeros(len(result)) \n",
    "    idx=0\n",
    "    for i in result: \n",
    "        iou=0\n",
    "        for j in range(len(i)):\n",
    "            for k in range(j+1,len(i)): \n",
    "                if(int(i[j][0])!=1 and int(i[k][0])!=1):\n",
    "                    #print(j,\":\",k,\"=\")\n",
    "                    x1=i[j][1]\n",
    "                    x2=i[j][1]+i[j][3]\n",
    "                    y1=i[j][2]\n",
    "                    y2=i[j][2]+i[j][4]\n",
    "                    x3=i[k][1]\n",
    "                    x4=i[k][1]+i[k][3]\n",
    "                    y3=i[k][2]\n",
    "                    y4=i[k][2]+i[k][4]\n",
    "\n",
    "                    box_1 = [[x1, y1], [x2, y1], [x2, y2], [x1, y2]]\n",
    "                    box_2 = [[x3, y3], [x4, y3], [x4, y4], [x3, y4]]\n",
    "\n",
    "                    poly_1 = Polygon(box_1)\n",
    "                    poly_2 = Polygon(box_2)\n",
    "\n",
    "                    if poly_1.union(poly_2).area!=0:\n",
    "                        iou += poly_1.intersection(poly_2).area / poly_1.union(poly_2).area\n",
    "                    #print(iou)\n",
    "        \n",
    "        losses[idx]=iou\n",
    "        idx+=1\n",
    "    return np.mean(losses)*100"
   ]
  },
  {
   "cell_type": "code",
   "execution_count": 63,
   "metadata": {},
   "outputs": [
    {
     "data": {
      "text/plain": [
       "19.87877550253167"
      ]
     },
     "execution_count": 63,
     "metadata": {},
     "output_type": "execute_result"
    }
   ],
   "source": [
    "calculate_iou(res[0:1000])"
   ]
  },
  {
   "cell_type": "code",
   "execution_count": 64,
   "metadata": {},
   "outputs": [
    {
     "data": {
      "text/plain": [
       "19.03428890903959"
      ]
     },
     "execution_count": 64,
     "metadata": {},
     "output_type": "execute_result"
    }
   ],
   "source": [
    "calculate_iou(trans_res[0:1000])"
   ]
  },
  {
   "cell_type": "code",
   "execution_count": 62,
   "metadata": {},
   "outputs": [
    {
     "data": {
      "text/plain": [
       "0.9575181784519609"
      ]
     },
     "execution_count": 62,
     "metadata": {},
     "output_type": "execute_result"
    }
   ],
   "source": [
    "calculate_iou(trans_res[0:1000])/calculate_iou(res[0:1000])"
   ]
  }
 ],
 "metadata": {
  "kernelspec": {
   "display_name": "Python 3",
   "language": "python",
   "name": "python3"
  },
  "language_info": {
   "codemirror_mode": {
    "name": "ipython",
    "version": 3
   },
   "file_extension": ".py",
   "mimetype": "text/x-python",
   "name": "python",
   "nbconvert_exporter": "python",
   "pygments_lexer": "ipython3",
   "version": "3.10.8"
  }
 },
 "nbformat": 4,
 "nbformat_minor": 2
}
