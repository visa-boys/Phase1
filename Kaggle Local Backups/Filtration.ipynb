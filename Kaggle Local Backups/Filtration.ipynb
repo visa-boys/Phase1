{
 "cells": [
  {
   "cell_type": "code",
   "execution_count": 2,
   "metadata": {},
   "outputs": [],
   "source": [
    "import pandas as pd\n",
    "import numpy as np\n"
   ]
  },
  {
   "cell_type": "code",
   "execution_count": 6,
   "metadata": {},
   "outputs": [],
   "source": [
    "df1=pd.read_csv(r'E:\\Anna University BOOKS & NOTES\\SEVENTH SEMESTER\\FYP\\Phase1\\filtered1.csv')\n",
    "df2=pd.read_csv(r'E:\\Anna University BOOKS & NOTES\\SEVENTH SEMESTER\\FYP\\Phase1\\filtered3.csv')"
   ]
  },
  {
   "cell_type": "code",
   "execution_count": 7,
   "metadata": {},
   "outputs": [
    {
     "data": {
      "text/plain": [
       "Index(['Unnamed: 0', 'Image ID', 'Room 0 Area (sq. meters)',\n",
       "       'Room 1 Area (sq. meters)', 'Room 2 Area (sq. meters)',\n",
       "       'Room 3 Area (sq. meters)', 'Room 4 Area (sq. meters)',\n",
       "       'Room 5 Area (sq. meters)', 'Room 6 Area (sq. meters)',\n",
       "       'Room 7 Area (sq. meters)', 'Room 8 Area (sq. meters)',\n",
       "       'Room 9 Area (sq. meters)', 'room0_valid', 'room1_valid', 'room2_valid',\n",
       "       'room3_valid', 'room4_valid', 'room5_valid', 'room6_valid',\n",
       "       'room7_valid', 'room8_valid', 'room9_valid', 'area_valid'],\n",
       "      dtype='object')"
      ]
     },
     "execution_count": 7,
     "metadata": {},
     "output_type": "execute_result"
    }
   ],
   "source": [
    "df1.columns"
   ]
  },
  {
   "cell_type": "code",
   "execution_count": 8,
   "metadata": {},
   "outputs": [
    {
     "data": {
      "text/plain": [
       "(80788, 23)"
      ]
     },
     "execution_count": 8,
     "metadata": {},
     "output_type": "execute_result"
    }
   ],
   "source": [
    "df1.shape"
   ]
  },
  {
   "cell_type": "code",
   "execution_count": 9,
   "metadata": {},
   "outputs": [
    {
     "data": {
      "text/plain": [
       "(80788, 23)"
      ]
     },
     "execution_count": 9,
     "metadata": {},
     "output_type": "execute_result"
    }
   ],
   "source": [
    "df2.shape"
   ]
  },
  {
   "cell_type": "code",
   "execution_count": 10,
   "metadata": {},
   "outputs": [],
   "source": [
    "df = pd.merge(df1, df2, left_on='Image ID',right_on='Image ID', how='inner')\n"
   ]
  },
  {
   "cell_type": "code",
   "execution_count": 11,
   "metadata": {},
   "outputs": [
    {
     "data": {
      "text/plain": [
       "(80788, 45)"
      ]
     },
     "execution_count": 11,
     "metadata": {},
     "output_type": "execute_result"
    }
   ],
   "source": [
    "df.shape"
   ]
  },
  {
   "cell_type": "code",
   "execution_count": 12,
   "metadata": {},
   "outputs": [
    {
     "data": {
      "text/plain": [
       "Index(['Unnamed: 0_x', 'Image ID', 'Room 0 Area (sq. meters)',\n",
       "       'Room 1 Area (sq. meters)', 'Room 2 Area (sq. meters)',\n",
       "       'Room 3 Area (sq. meters)', 'Room 4 Area (sq. meters)',\n",
       "       'Room 5 Area (sq. meters)', 'Room 6 Area (sq. meters)',\n",
       "       'Room 7 Area (sq. meters)', 'Room 8 Area (sq. meters)',\n",
       "       'Room 9 Area (sq. meters)', 'room0_valid_x', 'room1_valid_x',\n",
       "       'room2_valid_x', 'room3_valid_x', 'room4_valid_x', 'room5_valid_x',\n",
       "       'room6_valid_x', 'room7_valid_x', 'room8_valid_x', 'room9_valid_x',\n",
       "       'area_valid', 'Unnamed: 0_y', 'Room 0 minW (meters)',\n",
       "       'Room 1 minW (meters)', 'Room 2 minW (meters)', 'Room 3 minW (meters)',\n",
       "       'Room 4 minW (meters)', 'Room 5 minW (meters)', 'Room 6 minW (meters)',\n",
       "       'Room 7 minW (meters)', 'Room 8 minW (meters)', 'Room 9 minW (meters)',\n",
       "       'width_valid', 'room0_valid_y', 'room1_valid_y', 'room2_valid_y',\n",
       "       'room3_valid_y', 'room4_valid_y', 'room5_valid_y', 'room6_valid_y',\n",
       "       'room7_valid_y', 'room8_valid_y', 'room9_valid_y'],\n",
       "      dtype='object')"
      ]
     },
     "execution_count": 12,
     "metadata": {},
     "output_type": "execute_result"
    }
   ],
   "source": [
    "df.columns"
   ]
  },
  {
   "cell_type": "code",
   "execution_count": 13,
   "metadata": {},
   "outputs": [
    {
     "data": {
      "text/html": [
       "<div>\n",
       "<style scoped>\n",
       "    .dataframe tbody tr th:only-of-type {\n",
       "        vertical-align: middle;\n",
       "    }\n",
       "\n",
       "    .dataframe tbody tr th {\n",
       "        vertical-align: top;\n",
       "    }\n",
       "\n",
       "    .dataframe thead th {\n",
       "        text-align: right;\n",
       "    }\n",
       "</style>\n",
       "<table border=\"1\" class=\"dataframe\">\n",
       "  <thead>\n",
       "    <tr style=\"text-align: right;\">\n",
       "      <th></th>\n",
       "      <th>Unnamed: 0_x</th>\n",
       "      <th>Image ID</th>\n",
       "      <th>Room 0 Area (sq. meters)</th>\n",
       "      <th>Room 1 Area (sq. meters)</th>\n",
       "      <th>Room 2 Area (sq. meters)</th>\n",
       "      <th>Room 3 Area (sq. meters)</th>\n",
       "      <th>Room 4 Area (sq. meters)</th>\n",
       "      <th>Room 5 Area (sq. meters)</th>\n",
       "      <th>Room 6 Area (sq. meters)</th>\n",
       "      <th>Room 7 Area (sq. meters)</th>\n",
       "      <th>...</th>\n",
       "      <th>room0_valid_y</th>\n",
       "      <th>room1_valid_y</th>\n",
       "      <th>room2_valid_y</th>\n",
       "      <th>room3_valid_y</th>\n",
       "      <th>room4_valid_y</th>\n",
       "      <th>room5_valid_y</th>\n",
       "      <th>room6_valid_y</th>\n",
       "      <th>room7_valid_y</th>\n",
       "      <th>room8_valid_y</th>\n",
       "      <th>room9_valid_y</th>\n",
       "    </tr>\n",
       "  </thead>\n",
       "  <tbody>\n",
       "    <tr>\n",
       "      <th>8</th>\n",
       "      <td>8</td>\n",
       "      <td>8</td>\n",
       "      <td>31.373657</td>\n",
       "      <td>14.337158</td>\n",
       "      <td>7.840942</td>\n",
       "      <td>6.941162</td>\n",
       "      <td>0.0</td>\n",
       "      <td>0.0</td>\n",
       "      <td>0.00000</td>\n",
       "      <td>11.761414</td>\n",
       "      <td>...</td>\n",
       "      <td>True</td>\n",
       "      <td>True</td>\n",
       "      <td>True</td>\n",
       "      <td>True</td>\n",
       "      <td>True</td>\n",
       "      <td>True</td>\n",
       "      <td>True</td>\n",
       "      <td>True</td>\n",
       "      <td>True</td>\n",
       "      <td>True</td>\n",
       "    </tr>\n",
       "    <tr>\n",
       "      <th>16</th>\n",
       "      <td>16</td>\n",
       "      <td>16</td>\n",
       "      <td>27.280151</td>\n",
       "      <td>17.575378</td>\n",
       "      <td>6.451721</td>\n",
       "      <td>5.210815</td>\n",
       "      <td>0.0</td>\n",
       "      <td>0.0</td>\n",
       "      <td>0.00000</td>\n",
       "      <td>16.334473</td>\n",
       "      <td>...</td>\n",
       "      <td>True</td>\n",
       "      <td>True</td>\n",
       "      <td>True</td>\n",
       "      <td>True</td>\n",
       "      <td>True</td>\n",
       "      <td>True</td>\n",
       "      <td>True</td>\n",
       "      <td>True</td>\n",
       "      <td>True</td>\n",
       "      <td>True</td>\n",
       "    </tr>\n",
       "    <tr>\n",
       "      <th>22</th>\n",
       "      <td>22</td>\n",
       "      <td>22</td>\n",
       "      <td>33.815918</td>\n",
       "      <td>13.417603</td>\n",
       "      <td>9.769043</td>\n",
       "      <td>6.011719</td>\n",
       "      <td>0.0</td>\n",
       "      <td>0.0</td>\n",
       "      <td>0.00000</td>\n",
       "      <td>11.311523</td>\n",
       "      <td>...</td>\n",
       "      <td>True</td>\n",
       "      <td>True</td>\n",
       "      <td>True</td>\n",
       "      <td>True</td>\n",
       "      <td>True</td>\n",
       "      <td>True</td>\n",
       "      <td>True</td>\n",
       "      <td>True</td>\n",
       "      <td>True</td>\n",
       "      <td>True</td>\n",
       "    </tr>\n",
       "    <tr>\n",
       "      <th>32</th>\n",
       "      <td>32</td>\n",
       "      <td>32</td>\n",
       "      <td>38.626282</td>\n",
       "      <td>13.842773</td>\n",
       "      <td>10.441406</td>\n",
       "      <td>4.538452</td>\n",
       "      <td>0.0</td>\n",
       "      <td>0.0</td>\n",
       "      <td>12.39917</td>\n",
       "      <td>10.901184</td>\n",
       "      <td>...</td>\n",
       "      <td>True</td>\n",
       "      <td>True</td>\n",
       "      <td>True</td>\n",
       "      <td>True</td>\n",
       "      <td>True</td>\n",
       "      <td>True</td>\n",
       "      <td>True</td>\n",
       "      <td>True</td>\n",
       "      <td>True</td>\n",
       "      <td>True</td>\n",
       "    </tr>\n",
       "    <tr>\n",
       "      <th>53</th>\n",
       "      <td>53</td>\n",
       "      <td>53</td>\n",
       "      <td>51.959839</td>\n",
       "      <td>19.300781</td>\n",
       "      <td>7.475098</td>\n",
       "      <td>8.646790</td>\n",
       "      <td>0.0</td>\n",
       "      <td>0.0</td>\n",
       "      <td>0.00000</td>\n",
       "      <td>12.967712</td>\n",
       "      <td>...</td>\n",
       "      <td>True</td>\n",
       "      <td>True</td>\n",
       "      <td>True</td>\n",
       "      <td>True</td>\n",
       "      <td>True</td>\n",
       "      <td>True</td>\n",
       "      <td>True</td>\n",
       "      <td>True</td>\n",
       "      <td>True</td>\n",
       "      <td>True</td>\n",
       "    </tr>\n",
       "  </tbody>\n",
       "</table>\n",
       "<p>5 rows × 45 columns</p>\n",
       "</div>"
      ],
      "text/plain": [
       "    Unnamed: 0_x  Image ID  Room 0 Area (sq. meters)  \\\n",
       "8              8         8                 31.373657   \n",
       "16            16        16                 27.280151   \n",
       "22            22        22                 33.815918   \n",
       "32            32        32                 38.626282   \n",
       "53            53        53                 51.959839   \n",
       "\n",
       "    Room 1 Area (sq. meters)  Room 2 Area (sq. meters)  \\\n",
       "8                  14.337158                  7.840942   \n",
       "16                 17.575378                  6.451721   \n",
       "22                 13.417603                  9.769043   \n",
       "32                 13.842773                 10.441406   \n",
       "53                 19.300781                  7.475098   \n",
       "\n",
       "    Room 3 Area (sq. meters)  Room 4 Area (sq. meters)  \\\n",
       "8                   6.941162                       0.0   \n",
       "16                  5.210815                       0.0   \n",
       "22                  6.011719                       0.0   \n",
       "32                  4.538452                       0.0   \n",
       "53                  8.646790                       0.0   \n",
       "\n",
       "    Room 5 Area (sq. meters)  Room 6 Area (sq. meters)  \\\n",
       "8                        0.0                   0.00000   \n",
       "16                       0.0                   0.00000   \n",
       "22                       0.0                   0.00000   \n",
       "32                       0.0                  12.39917   \n",
       "53                       0.0                   0.00000   \n",
       "\n",
       "    Room 7 Area (sq. meters)  ...  room0_valid_y  room1_valid_y  \\\n",
       "8                  11.761414  ...           True           True   \n",
       "16                 16.334473  ...           True           True   \n",
       "22                 11.311523  ...           True           True   \n",
       "32                 10.901184  ...           True           True   \n",
       "53                 12.967712  ...           True           True   \n",
       "\n",
       "    room2_valid_y  room3_valid_y  room4_valid_y  room5_valid_y  room6_valid_y  \\\n",
       "8            True           True           True           True           True   \n",
       "16           True           True           True           True           True   \n",
       "22           True           True           True           True           True   \n",
       "32           True           True           True           True           True   \n",
       "53           True           True           True           True           True   \n",
       "\n",
       "    room7_valid_y  room8_valid_y  room9_valid_y  \n",
       "8            True           True           True  \n",
       "16           True           True           True  \n",
       "22           True           True           True  \n",
       "32           True           True           True  \n",
       "53           True           True           True  \n",
       "\n",
       "[5 rows x 45 columns]"
      ]
     },
     "execution_count": 13,
     "metadata": {},
     "output_type": "execute_result"
    }
   ],
   "source": [
    "filtered_df = df[(df['width_valid'] == True) & (df['area_valid'] == True)]\n",
    "filtered_df.head()\n",
    "\n"
   ]
  },
  {
   "cell_type": "code",
   "execution_count": 14,
   "metadata": {},
   "outputs": [
    {
     "data": {
      "text/plain": [
       "(12424, 45)"
      ]
     },
     "execution_count": 14,
     "metadata": {},
     "output_type": "execute_result"
    }
   ],
   "source": [
    "filtered_df.shape"
   ]
  },
  {
   "cell_type": "code",
   "execution_count": 15,
   "metadata": {},
   "outputs": [
    {
     "data": {
      "text/plain": [
       "8      8\n",
       "16    16\n",
       "22    22\n",
       "32    32\n",
       "53    53\n",
       "Name: Image ID, dtype: int64"
      ]
     },
     "execution_count": 15,
     "metadata": {},
     "output_type": "execute_result"
    }
   ],
   "source": [
    "filtered_df['Image ID'].head()"
   ]
  },
  {
   "cell_type": "code",
   "execution_count": 16,
   "metadata": {},
   "outputs": [],
   "source": [
    "filtered_plans=list(filtered_df['Image ID'])"
   ]
  },
  {
   "cell_type": "code",
   "execution_count": 19,
   "metadata": {},
   "outputs": [
    {
     "data": {
      "text/plain": [
       "12424"
      ]
     },
     "execution_count": 19,
     "metadata": {},
     "output_type": "execute_result"
    }
   ],
   "source": [
    "len(filtered_plans)"
   ]
  },
  {
   "cell_type": "code",
   "execution_count": 20,
   "metadata": {},
   "outputs": [],
   "source": [
    "np.save('ValidRoomIndices.npy',filtered_plans)"
   ]
  },
  {
   "cell_type": "code",
   "execution_count": 21,
   "metadata": {},
   "outputs": [
    {
     "data": {
      "text/plain": [
       "array([    8,    16,    22, ..., 80763, 80771, 80782])"
      ]
     },
     "execution_count": 21,
     "metadata": {},
     "output_type": "execute_result"
    }
   ],
   "source": [
    "np.load(\"ValidRoomIndices.npy\",allow_pickle=True)"
   ]
  }
 ],
 "metadata": {
  "kernelspec": {
   "display_name": "base",
   "language": "python",
   "name": "python3"
  },
  "language_info": {
   "codemirror_mode": {
    "name": "ipython",
    "version": 3
   },
   "file_extension": ".py",
   "mimetype": "text/x-python",
   "name": "python",
   "nbconvert_exporter": "python",
   "pygments_lexer": "ipython3",
   "version": "3.8.5"
  },
  "orig_nbformat": 4
 },
 "nbformat": 4,
 "nbformat_minor": 2
}
